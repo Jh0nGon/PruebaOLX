{
 "cells": [
  {
   "cell_type": "markdown",
   "id": "5a23acaa",
   "metadata": {},
   "source": [
    "![Imagen](https://upload.wikimedia.org/wikipedia/commons/thumb/9/9a/OLX_AUTOS_logo.svg/2560px-OLX_AUTOS_logo.svg.png)\n",
    "\n",
    "# Conversión de la base de datos a CSV\n",
    "\n",
    "Este es un pequeño código de prueba en el cual se usa de forma básica la libería panda para convertir la base de datos que fue utilizada en el ejercicio archivos planos\n",
    "\n"
   ]
  },
  {
   "cell_type": "code",
   "execution_count": 6,
   "id": "43bf432c",
   "metadata": {},
   "outputs": [],
   "source": [
    "#Importa libreria\n",
    "import pandas as pd \n",
    " \n",
    "#Ruta de ejemplo de los archivos\n",
    "Ruta = \"C:\\\\Users\\\\Jhonb\\\\Documents\\PruebaOLX\"\n",
    "    "
   ]
  },
  {
   "cell_type": "code",
   "execution_count": 11,
   "id": "82cfd439",
   "metadata": {},
   "outputs": [],
   "source": [
    "#Lectura del archivo en la hoja 'Data'\n",
    "Data = pd.read_excel(Ruta + '\\Base_Ventas.xlsx', sheet_name = 'Data')\n",
    "\n",
    "#Conversión a CSV de la hoja 'Data'\n",
    "Data.to_csv(Ruta + '\\Base_Ventas_Data.CSV')"
   ]
  },
  {
   "cell_type": "code",
   "execution_count": 13,
   "id": "5a870bb5",
   "metadata": {},
   "outputs": [],
   "source": [
    "#Lectura del archivo en la hoja 'Detalle'\n",
    "Detalle = pd.read_excel(Ruta + '\\Base_Ventas.xlsx', sheet_name = 'Detalle')\n",
    "\n",
    "#Conversión a CSV de la hoja 'Detalle'\n",
    "Detalle.to_csv(Ruta + '\\Base_Ventas_Detalle.CSV')"
   ]
  },
  {
   "cell_type": "code",
   "execution_count": 12,
   "id": "dd4ed88f",
   "metadata": {},
   "outputs": [],
   "source": [
    "#Lectura del archivo en la hoja 'Ubicaciones'\n",
    "Ubicaciones = pd.read_excel(Ruta + '\\Base_Ventas.xlsx', sheet_name = 'Ubicaciones')\n",
    "\n",
    "#Conversión a CSV de la hoja 'Ubicaciones'\n",
    "Ubicaciones.to_csv(Ruta + '\\Base_Ventas_Ubicaciones.CSV')"
   ]
  },
  {
   "cell_type": "code",
   "execution_count": null,
   "id": "302fc64e",
   "metadata": {},
   "outputs": [],
   "source": []
  }
 ],
 "metadata": {
  "kernelspec": {
   "display_name": "Python 3 (ipykernel)",
   "language": "python",
   "name": "python3"
  },
  "language_info": {
   "codemirror_mode": {
    "name": "ipython",
    "version": 3
   },
   "file_extension": ".py",
   "mimetype": "text/x-python",
   "name": "python",
   "nbconvert_exporter": "python",
   "pygments_lexer": "ipython3",
   "version": "3.10.4"
  }
 },
 "nbformat": 4,
 "nbformat_minor": 5
}
